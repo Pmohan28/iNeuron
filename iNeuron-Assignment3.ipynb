{
 "cells": [
  {
   "cell_type": "markdown",
   "metadata": {},
   "source": [
    "Q1 Implement your ownreduce() function similar to like reduce function in python."
   ]
  },
  {
   "cell_type": "code",
   "execution_count": 10,
   "metadata": {},
   "outputs": [],
   "source": [
    "from functools import reduce\n"
   ]
  },
  {
   "cell_type": "code",
   "execution_count": 75,
   "metadata": {},
   "outputs": [],
   "source": [
    "def maxfind(x,y):\n",
    "    if x > y:\n",
    "        return (x)\n",
    "    else:\n",
    "\n",
    "        return (y)\n",
    "        \n",
    "def ownreduce(fx,l):\n",
    "  z = l[0]\n",
    "  for item in l[1:]:\n",
    "   z = fx(z, item)\n",
    "   return z"
   ]
  },
  {
   "cell_type": "code",
   "execution_count": 76,
   "metadata": {},
   "outputs": [
    {
     "output_type": "execute_result",
     "data": {
      "text/plain": "14"
     },
     "metadata": {},
     "execution_count": 76
    }
   ],
   "source": [
    "#max find\n",
    "myreduce(maxfind,[13,2,4,14])"
   ]
  },
  {
   "cell_type": "markdown",
   "metadata": {},
   "source": [
    "Q2 Implement your ownfilter function"
   ]
  },
  {
   "cell_type": "code",
   "execution_count": 109,
   "metadata": {},
   "outputs": [],
   "source": [
    "def ownfilter(fx,l):\n",
    "  z = []\n",
    "  for item in l:\n",
    "      if fx(item):\n",
    "          z.append(item)\n",
    "  return z\n",
    "\n",
    "def is_even(x):\n",
    "    if x%2==0:\n",
    "        return True"
   ]
  },
  {
   "cell_type": "code",
   "execution_count": 110,
   "metadata": {},
   "outputs": [
    {
     "output_type": "execute_result",
     "data": {
      "text/plain": "[32, 2]"
     },
     "metadata": {},
     "execution_count": 110
    }
   ],
   "source": [
    "ownfilter(is_even,[32,2,5])"
   ]
  },
  {
   "cell_type": "markdown",
   "metadata": {},
   "source": [
    "\n",
    "Write List comprehensions to produce the following Lists\n",
    "\n",
    "['A', 'C', 'A', 'D', 'G', 'I', ’L’, ‘ D’]\n",
    "['x', 'xx', 'xxx', 'xxxx', 'y', 'yy', 'yyy', 'yyyy', 'z', 'zz', 'zzz', 'zzzz']\n",
    "['x', 'y', 'z', 'xx', 'yy', 'zz', 'xxx', 'yyy', 'zzz', 'xxxx', 'yyyy', 'zzzz']\n",
    "[[2], [3], [4], [3], [4], [5], [4], [5], [6]] \n",
    "[[2, 3, 4, 5], [3, 4, 5, 6],[4, 5, 6, 7], [5, 6, 7, 8]]\n",
    "[(1, 1), (2, 1), (3, 1), (1, 2), (2, 2), (3, 2), (1, 3), (2, 3), (3, 3)]"
   ]
  },
  {
   "cell_type": "code",
   "execution_count": 247,
   "metadata": {},
   "outputs": [
    {
     "output_type": "stream",
     "name": "stdout",
     "text": "ACADGILD ---> ['A', 'C', 'A', 'D', 'G', 'I', 'L', 'D'].\n"
    }
   ],
   "source": [
    "l1 = 'ACADGILD'\n",
    "print ('%s ---> %s.'%(l1,[x for x in l1]))\n"
   ]
  },
  {
   "cell_type": "code",
   "execution_count": 248,
   "metadata": {},
   "outputs": [
    {
     "output_type": "stream",
     "name": "stdout",
     "text": "['x', 'y', 'z'] ---> ['x', 'xx', 'xxx', 'xxxx', 'y', 'yy', 'yyy', 'yyyy', 'z', 'zz', 'zzz', 'zzzz'].\n"
    }
   ],
   "source": [
    "l1 = ['x','y','z']\n",
    "print ('%s ---> %s.'%(l1,[item * num for item in l for num in range(1,5)]))"
   ]
  },
  {
   "cell_type": "code",
   "execution_count": 265,
   "metadata": {},
   "outputs": [
    {
     "output_type": "stream",
     "name": "stdout",
     "text": "['x', 'y', 'z'] ---> ['x', 'y', 'z', 'xx', 'yy', 'zz', 'xxx', 'yyy', 'zzz', 'xxxx', 'yyyy', 'zzzz'].\n"
    }
   ],
   "source": [
    "l1 = ['x','y','z']\n",
    "print ('%s ---> %s.'%(l1,[item * num for num in range(1,5) for item in l1]))"
   ]
  },
  {
   "cell_type": "code",
   "execution_count": 304,
   "metadata": {},
   "outputs": [
    {
     "output_type": "stream",
     "name": "stdout",
     "text": "[2, 3, 4] ---> [[2], [3], [4], [3], [4], [5], [4], [5], [6]].\n"
    }
   ],
   "source": [
    "l1 = [2,3,4]\n",
    "print ('%s ---> %s.'%(l1,[[item + num] for num in range (0,3) for item in l1]))"
   ]
  },
  {
   "cell_type": "code",
   "execution_count": 339,
   "metadata": {},
   "outputs": [
    {
     "output_type": "stream",
     "name": "stdout",
     "text": "[2, 3, 4, 5] ---> [[2, 3, 4, 5], [3, 4, 5, 6], [4, 5, 6, 7], [5, 6, 7, 8]].\n"
    }
   ],
   "source": [
    "l1 = [2,3,4,5]\n",
    "print ('%s ---> %s.'%(l1,[[item + num  for item in l1] for num in range (0,4)]))"
   ]
  },
  {
   "cell_type": "code",
   "execution_count": 343,
   "metadata": {},
   "outputs": [
    {
     "output_type": "stream",
     "name": "stdout",
     "text": "[1, 2, 3] ---> [(1, 1), (2, 1), (3, 1), (1, 2), (2, 2), (3, 2), (1, 3), (2, 3), (3, 3)].\n"
    }
   ],
   "source": [
    "l1 = [1,2,3]\n",
    "print ('%s ---> %s.'%(l1,[(num,item)for item in l1 for num in l1]))"
   ]
  },
  {
   "cell_type": "code",
   "execution_count": null,
   "metadata": {},
   "outputs": [],
   "source": [
    "[(1, 1), (2, 1), (3, 1), (1, 2), (2, 2), (3, 2), (1, 3), (2, 3), (3, 3)]"
   ]
  }
 ],
 "metadata": {
  "language_info": {
   "codemirror_mode": {
    "name": "ipython",
    "version": 3
   },
   "file_extension": ".py",
   "mimetype": "text/x-python",
   "name": "python",
   "nbconvert_exporter": "python",
   "pygments_lexer": "ipython3",
   "version": "3.7.4-final"
  },
  "orig_nbformat": 2,
  "kernelspec": {
   "name": "python37464bitbasecondaaada994eabff46f194f9dd3fb3a49382",
   "display_name": "Python 3.7.4 64-bit ('base': conda)"
  }
 },
 "nbformat": 4,
 "nbformat_minor": 2
}