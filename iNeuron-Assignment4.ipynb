{
 "cells": [
  {
   "cell_type": "markdown",
   "metadata": {},
   "source": [
    "Q1.1"
   ]
  },
  {
   "cell_type": "code",
   "execution_count": 29,
   "metadata": {},
   "outputs": [],
   "source": [
    "class Triangle():\n",
    "    def __init__(self,a,b,c):\n",
    "        self.a = float(a)\n",
    "        self.b = float(b)\n",
    "        self.c = float(c)\n",
    "    \n",
    "    def myfunc(self):\n",
    "        try:\n",
    "            s = (self.a + self.b + self.c)/2\n",
    "            area = ((s*(s-self.a)*(s-self.b)*(s-self.c))**0.5)\n",
    "        except:\n",
    "            print('failed to get are')\n",
    "        return area"
   ]
  },
  {
   "cell_type": "code",
   "execution_count": 30,
   "metadata": {},
   "outputs": [
    {
     "name": "stdout",
     "output_type": "stream",
     "text": [
      "Enter the length for a: 1.3\n",
      "Enter the length for b: 1.3\n",
      "Enter the length for c: 1.3\n",
      "area:0.731791466197851\n"
     ]
    }
   ],
   "source": [
    "t = Triangle(input('Enter the length for a: '),input('Enter the length for b: '),input('Enter the length for c: '))\n",
    "print('area:{}'.format(t.myfunc()))"
   ]
  },
  {
   "cell_type": "markdown",
   "metadata": {},
   "source": [
    "Q1.2  Write a function filter_long_words() that takes a list of words and an integer n and returns\n",
    "the list of words that are longer than n."
   ]
  },
  {
   "cell_type": "code",
   "execution_count": 283,
   "metadata": {},
   "outputs": [],
   "source": [
    "class filter_long_words():\n",
    "    def __init__(self,a,b):\n",
    "        self.a1 = a\n",
    "        self.b1 = int(b)\n",
    "    def myfunc1(self):\n",
    "        try:\n",
    "            listofword = []\n",
    "            for i in range(len(self.a1)):\n",
    "                if len(self.a1[i]) > self.b1:\n",
    "                    listofword.append(self.a1[i])\n",
    "            return listofword\n",
    "        except Exception as e:\n",
    "            print (' Error: count find list of words')"
   ]
  },
  {
   "cell_type": "code",
   "execution_count": 284,
   "metadata": {},
   "outputs": [
    {
     "name": "stdout",
     "output_type": "stream",
     "text": [
      "list of words: ['abcde', 'zxcw']\n"
     ]
    }
   ],
   "source": [
    "t = filter_long_words([ 'avg', 'abcde', 'zxcw', 'b'], 3)\n",
    "print ('list of words:', t.myfunc1())"
   ]
  },
  {
   "cell_type": "markdown",
   "metadata": {},
   "source": [
    "Q2 Write a Python program using function concept that maps list of words into a list of integers\n",
    "representing the lengths of the corresponding words.\n",
    "Hint: If a list [ ab,cde,erty] is passed on to the python function output should come as [2,3,4]\n",
    "Here 2,3 and 4 are the lengths of the words in the list."
   ]
  },
  {
   "cell_type": "code",
   "execution_count": 286,
   "metadata": {},
   "outputs": [],
   "source": [
    "def length_words(x):\n",
    "    words_append = []\n",
    "    for word in x:\n",
    "        words_append.append(len(word))\n",
    "    return words_append"
   ]
  },
  {
   "cell_type": "code",
   "execution_count": 289,
   "metadata": {},
   "outputs": [
    {
     "data": {
      "text/plain": [
       "[2, 4, 5]"
      ]
     },
     "execution_count": 289,
     "metadata": {},
     "output_type": "execute_result"
    }
   ],
   "source": [
    "length_words(['ab','cded','erwty'])"
   ]
  },
  {
   "cell_type": "markdown",
   "metadata": {},
   "source": [
    "Q3 Write a Python function which takes a character (i.e. a string of length 1) and returns True if\n",
    "it is a vowel, False otherwise"
   ]
  },
  {
   "cell_type": "code",
   "execution_count": 293,
   "metadata": {},
   "outputs": [],
   "source": [
    "char_vo = ['a','e', 'i', 'o','u']\n",
    "def vowel(x):\n",
    "    try:\n",
    "        if x in char_vo:\n",
    "            return True\n",
    "        else:\n",
    "            return False\n",
    "    except Exception as e:\n",
    "        print ('Exiting code')"
   ]
  },
  {
   "cell_type": "code",
   "execution_count": 294,
   "metadata": {},
   "outputs": [
    {
     "data": {
      "text/plain": [
       "True"
      ]
     },
     "execution_count": 294,
     "metadata": {},
     "output_type": "execute_result"
    }
   ],
   "source": [
    "vowel('a')"
   ]
  },
  {
   "cell_type": "code",
   "execution_count": null,
   "metadata": {},
   "outputs": [],
   "source": []
  }
 ],
 "metadata": {
  "kernelspec": {
   "display_name": "Python 3",
   "language": "python",
   "name": "python3"
  },
  "language_info": {
   "codemirror_mode": {
    "name": "ipython",
    "version": 3
   },
   "file_extension": ".py",
   "mimetype": "text/x-python",
   "name": "python",
   "nbconvert_exporter": "python",
   "pygments_lexer": "ipython3",
   "version": "3.7.4"
  }
 },
 "nbformat": 4,
 "nbformat_minor": 2
}
